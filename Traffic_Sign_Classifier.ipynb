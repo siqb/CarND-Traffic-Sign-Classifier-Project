{
 "cells": [
  {
   "cell_type": "markdown",
   "metadata": {},
   "source": [
    "# Self-Driving Car Engineer Nanodegree\n",
    "\n",
    "## Deep Learning\n",
    "\n",
    "## Project: Build a Traffic Sign Recognition Classifier\n",
    "\n",
    "In this notebook, a template is provided for you to implement your functionality in stages, which is required to successfully complete this project. If additional code is required that cannot be included in the notebook, be sure that the Python code is successfully imported and included in your submission if necessary. \n",
    "\n",
    "> **Note**: Once you have completed all of the code implementations, you need to finalize your work by exporting the iPython Notebook as an HTML document. Before exporting the notebook to html, all of the code cells need to have been run so that reviewers can see the final implementation and output. You can then export the notebook by using the menu above and navigating to  \\n\",\n",
    "    \"**File -> Download as -> HTML (.html)**. Include the finished document along with this notebook as your submission. \n",
    "\n",
    "In addition to implementing code, there is a writeup to complete. The writeup should be completed in a separate file, which can be either a markdown file or a pdf document. There is a [write up template](https://github.com/udacity/CarND-Traffic-Sign-Classifier-Project/blob/master/writeup_template.md) that can be used to guide the writing process. Completing the code template and writeup template will cover all of the [rubric points](https://review.udacity.com/#!/rubrics/481/view) for this project.\n",
    "\n",
    "The [rubric](https://review.udacity.com/#!/rubrics/481/view) contains \"Stand Out Suggestions\" for enhancing the project beyond the minimum requirements. The stand out suggestions are optional. If you decide to pursue the \"stand out suggestions\", you can include the code in this Ipython notebook and also discuss the results in the writeup file.\n",
    "\n",
    "\n",
    ">**Note:** Code and Markdown cells can be executed using the **Shift + Enter** keyboard shortcut. In addition, Markdown cells can be edited by typically double-clicking the cell to enter edit mode."
   ]
  },
  {
   "cell_type": "markdown",
   "metadata": {},
   "source": [
    "---\n",
    "## Step 0: Load The Data"
   ]
  },
  {
   "cell_type": "code",
   "execution_count": 1,
   "metadata": {},
   "outputs": [],
   "source": [
    "#importing some useful packages\n",
    "import matplotlib.image as mpimg\n",
    "import numpy as np\n",
    "import cv2\n",
    "\n",
    "# Load pickled data\n",
    "import pickle\n",
    "\n",
    "# TODO: Fill this in based on where you saved the training and testing data\n",
    "\n",
    "training_file = '../train.p'\n",
    "validation_file = '../valid.p' \n",
    "testing_file = '../test.p'\n",
    "\n",
    "with open(training_file, mode='rb') as f:\n",
    "    train = pickle.load(f)\n",
    "with open(validation_file, mode='rb') as f:\n",
    "    valid = pickle.load(f)\n",
    "with open(testing_file, mode='rb') as f:\n",
    "    test = pickle.load(f)\n",
    "    \n",
    "X_train, y_train = train['features'], train['labels']\n",
    "X_valid, y_valid = valid['features'], valid['labels']\n",
    "X_test, y_test = test['features'], test['labels']\n",
    "\n",
    "train_data_dict = {}\n",
    "for data in zip(X_train, y_train):\n",
    "    if data[1] not in train_data_dict.keys():\n",
    "        train_data_dict[data[1]] = [data[0]]\n",
    "    else:\n",
    "        train_data_dict[data[1]].append(data[0])\n",
    "        \n",
    "val_data_dict = {}\n",
    "for data in zip(X_valid, y_valid):\n",
    "    if data[1] not in val_data_dict.keys():\n",
    "        val_data_dict[data[1]] = [data[0]]\n",
    "    else:\n",
    "        val_data_dict[data[1]].append(data[0])\n",
    "        \n",
    "test_data_dict = {}\n",
    "for data in zip(X_test, y_test):\n",
    "    if data[1] not in test_data_dict.keys():\n",
    "        test_data_dict[data[1]] = [data[0]]\n",
    "    else:\n",
    "        test_data_dict[data[1]].append(data[0])"
   ]
  },
  {
   "cell_type": "markdown",
   "metadata": {},
   "source": [
    "---\n",
    "\n",
    "## Step 1: Dataset Summary & Exploration\n",
    "\n",
    "The pickled data is a dictionary with 4 key/value pairs:\n",
    "\n",
    "- `'features'` is a 4D array containing raw pixel data of the traffic sign images, (num examples, width, height, channels).\n",
    "- `'labels'` is a 1D array containing the label/class id of the traffic sign. The file `signnames.csv` contains id -> name mappings for each id.\n",
    "- `'sizes'` is a list containing tuples, (width, height) representing the original width and height the image.\n",
    "- `'coords'` is a list containing tuples, (x1, y1, x2, y2) representing coordinates of a bounding box around the sign in the image. **THESE COORDINATES ASSUME THE ORIGINAL IMAGE. THE PICKLED DATA CONTAINS RESIZED VERSIONS (32 by 32) OF THESE IMAGES**\n",
    "\n",
    "Complete the basic data summary below. Use python, numpy and/or pandas methods to calculate the data summary rather than hard coding the results. For example, the [pandas shape method](http://pandas.pydata.org/pandas-docs/stable/generated/pandas.DataFrame.shape.html) might be useful for calculating some of the summary results. "
   ]
  },
  {
   "cell_type": "markdown",
   "metadata": {},
   "source": [
    "### Provide a Basic Summary of the Data Set Using Python, Numpy and/or Pandas"
   ]
  },
  {
   "cell_type": "code",
   "execution_count": 2,
   "metadata": {},
   "outputs": [
    {
     "name": "stdout",
     "output_type": "stream",
     "text": [
      "Number of training examples = 34799\n",
      "Number of validation examples = 4410\n",
      "Number of testing examples = 12630\n",
      "Image data shape = (32, 32)\n",
      "Number of classes = 43\n"
     ]
    }
   ],
   "source": [
    "### Replace each question mark with the appropriate value. \n",
    "### Use python, pandas or numpy methods rather than hard coding the results\n",
    "\n",
    "# TODO: Number of training examples\n",
    "n_train = len(X_train)\n",
    "\n",
    "# TODO: Number of validation examples\n",
    "n_validation = len(X_valid)\n",
    "\n",
    "# TODO: Number of testing examples.\n",
    "n_test = len(X_test)\n",
    "\n",
    "# TODO: What's the shape of an traffic sign image?\n",
    "image_shape = (32,32)\n",
    "\n",
    "# TODO: How many unique classes/labels there are in the dataset.\n",
    "n_classes = 43\n",
    "\n",
    "print(\"Number of training examples =\", n_train)\n",
    "print(\"Number of validation examples =\", n_validation)\n",
    "print(\"Number of testing examples =\", n_test)\n",
    "print(\"Image data shape =\", image_shape)\n",
    "print(\"Number of classes =\", n_classes)"
   ]
  },
  {
   "cell_type": "markdown",
   "metadata": {},
   "source": [
    "### Include an exploratory visualization of the dataset"
   ]
  },
  {
   "cell_type": "markdown",
   "metadata": {},
   "source": [
    "Visualize the German Traffic Signs Dataset using the pickled file(s). This is open ended, suggestions include: plotting traffic sign images, plotting the count of each sign, etc. \n",
    "\n",
    "The [Matplotlib](http://matplotlib.org/) [examples](http://matplotlib.org/examples/index.html) and [gallery](http://matplotlib.org/gallery.html) pages are a great resource for doing visualizations in Python.\n",
    "\n",
    "**NOTE:** It's recommended you start with something simple first. If you wish to do more, come back to it after you've completed the rest of the sections. It can be interesting to look at the distribution of classes in the training, validation and test set. Is the distribution the same? Are there more examples of some classes than others?"
   ]
  },
  {
   "cell_type": "code",
   "execution_count": 3,
   "metadata": {},
   "outputs": [
    {
     "data": {
      "text/plain": [
       "\"\\ndef show_grid(rows, cols):\\n    # show image of 10 random data points\\n    fig, axs = plt.subplots(rows,cols, figsize=(15, 6))\\n    fig.subplots_adjust(hspace = .2, wspace=.001)\\n    axs = axs.ravel()\\n    for i in range(10):\\n        index = random.randint(0, len(X_train))\\n        image = X_train[index]\\n        axs[i].axis('off')\\n        axs[i].imshow(image)\\n        axs[i].set_title(y_train[index])\\n\""
      ]
     },
     "execution_count": 3,
     "metadata": {},
     "output_type": "execute_result"
    }
   ],
   "source": [
    "\"\"\"\n",
    "def show_grid(rows, cols):\n",
    "    # show image of 10 random data points\n",
    "    fig, axs = plt.subplots(rows,cols, figsize=(15, 6))\n",
    "    fig.subplots_adjust(hspace = .2, wspace=.001)\n",
    "    axs = axs.ravel()\n",
    "    for i in range(10):\n",
    "        index = random.randint(0, len(X_train))\n",
    "        image = X_train[index]\n",
    "        axs[i].axis('off')\n",
    "        axs[i].imshow(image)\n",
    "        axs[i].set_title(y_train[index])\n",
    "\"\"\""
   ]
  },
  {
   "cell_type": "code",
   "execution_count": 4,
   "metadata": {},
   "outputs": [
    {
     "name": "stdout",
     "output_type": "stream",
     "text": [
      "Training data shape = (34799, 32, 32, 3)\n",
      "Training labels shape = (34799,) \n",
      "\n",
      "Test data shape = (12630, 32, 32, 3)\n",
      "Test labels shape = (12630,) \n",
      "\n",
      "Validation data shape = (4410, 32, 32, 3)\n",
      "Validation labels shape = (4410,) \n",
      "\n"
     ]
    },
    {
     "data": {
      "image/png": "[encoded data removed]",
      "text/plain": [
       "<matplotlib.figure.Figure at 0x7fe0fc493a90>"
      ]
     },
     "metadata": {},
     "output_type": "display_data"
    }
   ],
   "source": [
    "### Data exploration visualization code goes here.\n",
    "### Feel free to use as many code cells as needed.\n",
    "import matplotlib.pyplot as plt\n",
    "import random\n",
    "# Visualizations will be shown in the notebook.\n",
    "%matplotlib inline\n",
    "\n",
    "print(\"Training data shape =\", X_train.shape)\n",
    "print(\"Training labels shape =\", y_train.shape,\"\\n\")\n",
    "print(\"Test data shape =\", X_test.shape)\n",
    "print(\"Test labels shape =\", y_test.shape,\"\\n\")\n",
    "print(\"Validation data shape =\", X_valid.shape)\n",
    "print(\"Validation labels shape =\", y_valid.shape,\"\\n\")\n",
    "\n",
    "\n",
    "#plt.imshow(X_train[1])\n",
    "#print(\"label 1 =\", y_train[1])\n",
    "\n",
    "#histogram = plt.hist(y_train, normed=True, bins=)\n",
    "#histogram = plt.ylabel('Classes');\n",
    "#plt.show()\n",
    "\n",
    "# show image of 10 random data points\n",
    "fig, axs = plt.subplots(5,5, figsize=(15, 6))\n",
    "fig.subplots_adjust(hspace = .2, wspace=.001)\n",
    "axs = axs.ravel()\n",
    "for i in range(25):\n",
    "    index = random.randint(0, len(X_train))\n",
    "    image = X_train[index]\n",
    "    axs[i].axis('off')\n",
    "    axs[i].imshow(image)\n",
    "    axs[i].set_title(y_train[index])\n",
    "    \n",
    "\n",
    "\n"
   ]
  },
  {
   "cell_type": "markdown",
   "metadata": {},
   "source": [
    "Imbalanced data typically refers to a problem with classification problems where the classes are not represented equally. We want to have balanced data as much as possible. "
   ]
  },
  {
   "cell_type": "code",
   "execution_count": 5,
   "metadata": {},
   "outputs": [
    {
     "name": "stdout",
     "output_type": "stream",
     "text": [
      "Training set histogram\n"
     ]
    },
    {
     "data": {
      "image/png": "[encoded data removed]",
      "text/plain": [
       "<matplotlib.figure.Figure at 0x7fe0bc51fb70>"
      ]
     },
     "metadata": {},
     "output_type": "display_data"
    },
    {
     "name": "stdout",
     "output_type": "stream",
     "text": [
      "Number of bins: 44 \n",
      "\n",
      "Bin boundaries:  [  0.           0.97674419   1.95348837   2.93023256   3.90697674\n",
      "   4.88372093   5.86046512   6.8372093    7.81395349   8.79069767\n",
      "   9.76744186  10.74418605  11.72093023  12.69767442  13.6744186\n",
      "  14.65116279  15.62790698  16.60465116  17.58139535  18.55813953\n",
      "  19.53488372  20.51162791  21.48837209  22.46511628  23.44186047\n",
      "  24.41860465  25.39534884  26.37209302  27.34883721  28.3255814\n",
      "  29.30232558  30.27906977  31.25581395  32.23255814  33.20930233\n",
      "  34.18604651  35.1627907   36.13953488  37.11627907  38.09302326\n",
      "  39.06976744  40.04651163  41.02325581  42.        ] \n",
      "\n",
      "Histogram counts: [ 180 1980 2010 1260 1770 1650  360 1290 1260 1320 1800 1170 1890 1920  690\n",
      "  540  360  990 1080  180  300  270  330  450  240 1350  540  210  480  240\n",
      "  390  690  210  599  360 1080  330  180 1860  270  300  210  210] \n",
      "\n",
      "Validation set histogram\n"
     ]
    },
    {
     "data": {
      "image/png": "[encoded data removed]",
      "text/plain": [
       "<matplotlib.figure.Figure at 0x7fe0bb5ced30>"
      ]
     },
     "metadata": {},
     "output_type": "display_data"
    },
    {
     "name": "stdout",
     "output_type": "stream",
     "text": [
      "Number of bins: 44 \n",
      "\n",
      "Bin boundaries:  [  0.           0.97674419   1.95348837   2.93023256   3.90697674\n",
      "   4.88372093   5.86046512   6.8372093    7.81395349   8.79069767\n",
      "   9.76744186  10.74418605  11.72093023  12.69767442  13.6744186\n",
      "  14.65116279  15.62790698  16.60465116  17.58139535  18.55813953\n",
      "  19.53488372  20.51162791  21.48837209  22.46511628  23.44186047\n",
      "  24.41860465  25.39534884  26.37209302  27.34883721  28.3255814\n",
      "  29.30232558  30.27906977  31.25581395  32.23255814  33.20930233\n",
      "  34.18604651  35.1627907   36.13953488  37.11627907  38.09302326\n",
      "  39.06976744  40.04651163  41.02325581  42.        ] \n",
      "\n",
      "Histogram counts: [ 30 240 240 150 210 210  60 150 150 150 210 150 210 240  90  90  60 120\n",
      " 120  30  60  60  60  60  30 150  60  30  60  30  60  90  30  90  60 120\n",
      "  60  30 210  30  60  30  30] \n",
      "\n",
      "Test set histogram\n"
     ]
    },
    {
     "data": {
      "image/png": "[encoded data removed]",
      "text/plain": [
       "<matplotlib.figure.Figure at 0x7fe0bb5a3b70>"
      ]
     },
     "metadata": {},
     "output_type": "display_data"
    },
    {
     "name": "stdout",
     "output_type": "stream",
     "text": [
      "Number of bins: 44 \n",
      "\n",
      "Bin boundaries:  [  0.           0.97674419   1.95348837   2.93023256   3.90697674\n",
      "   4.88372093   5.86046512   6.8372093    7.81395349   8.79069767\n",
      "   9.76744186  10.74418605  11.72093023  12.69767442  13.6744186\n",
      "  14.65116279  15.62790698  16.60465116  17.58139535  18.55813953\n",
      "  19.53488372  20.51162791  21.48837209  22.46511628  23.44186047\n",
      "  24.41860465  25.39534884  26.37209302  27.34883721  28.3255814\n",
      "  29.30232558  30.27906977  31.25581395  32.23255814  33.20930233\n",
      "  34.18604651  35.1627907   36.13953488  37.11627907  38.09302326\n",
      "  39.06976744  40.04651163  41.02325581  42.        ] \n",
      "\n",
      "Histogram counts: [ 60 720 750 450 660 630 150 450 450 480 660 420 690 720 270 210 150 360\n",
      " 390  60  90  90 120 150  90 480 180  60 150  90 150 270  60 210 120 390\n",
      " 120  60 690  90  90  60  90]\n"
     ]
    }
   ],
   "source": [
    "print(\"Training set histogram\")\n",
    "# histogram of label frequency\n",
    "hist_train, bins_train = np.histogram(y_train, bins=n_classes)\n",
    "width = 0.7 * (bins_train[1] - bins_train[0])\n",
    "center = (bins_train[:-1] + bins_train[1:]) / 2\n",
    "plt.bar(center, hist_train, align='center', width=width)\n",
    "plt.show()\n",
    "print(\"Number of bins:\", len(bins_train),\"\\n\")\n",
    "print(\"Bin boundaries: \", bins_train, \"\\n\")\n",
    "print(\"Histogram counts:\", hist_train,\"\\n\")\n",
    "\n",
    "print(\"Validation set histogram\")\n",
    "# histogram of label frequency\n",
    "hist_val, bins_val = np.histogram(y_valid, bins=n_classes)\n",
    "width = 0.7 * (bins_val[1] - bins_val[0])\n",
    "center = (bins_val[:-1] + bins_val[1:]) / 2\n",
    "plt.bar(center, hist_val, align='center', width=width)\n",
    "plt.show()\n",
    "print(\"Number of bins:\", len(bins_val),\"\\n\")\n",
    "print(\"Bin boundaries: \", bins_val, \"\\n\")\n",
    "print(\"Histogram counts:\", hist_val,\"\\n\")\n",
    "\n",
    "print(\"Test set histogram\")\n",
    "# histogram of label frequency\n",
    "hist_test, bins_test = np.histogram(y_test, bins=n_classes)\n",
    "width = 0.7 * (bins_test[1] - bins_test[0])\n",
    "center = (bins_test[:-1] + bins_test[1:]) / 2\n",
    "plt.bar(center, hist_test, align='center', width=width)\n",
    "plt.show()\n",
    "print(\"Number of bins:\", len(bins_test),\"\\n\")\n",
    "print(\"Bin boundaries: \", bins_test, \"\\n\")\n",
    "print(\"Histogram counts:\", hist_test)"
   ]
  },
  {
   "cell_type": "markdown",
   "metadata": {},
   "source": [
    "As can be clearly seen above, Udacity made sure that the training, validation, and test data sets are roughly equally distributed across classes. Therefore, there's no need for me to attempt to rebalance the data.\n",
    "\n",
    "Come up with multiple data sets for differ\n",
    "ent experiments."
   ]
  },
  {
   "cell_type": "code",
   "execution_count": null,
   "metadata": {},
   "outputs": [],
   "source": [
    "\n"
   ]
  },
  {
   "cell_type": "markdown",
   "metadata": {},
   "source": [
    "----\n",
    "\n",
    "## Step 2: Design and Test a Model Architecture\n",
    "\n",
    "Design and implement a deep learning model that learns to recognize traffic signs. Train and test your model on the [German Traffic Sign Dataset](http://benchmark.ini.rub.de/?section=gtsrb&subsection=dataset).\n",
    "\n",
    "The LeNet-5 implementation shown in the [classroom](https://classroom.udacity.com/nanodegrees/nd013/parts/fbf77062-5703-404e-b60c-95b78b2f3f9e/modules/6df7ae49-c61c-4bb2-a23e-6527e69209ec/lessons/601ae704-1035-4287-8b11-e2c2716217ad/concepts/d4aca031-508f-4e0b-b493-e7b706120f81) at the end of the CNN lesson is a solid starting point. You'll have to change the number of classes and possibly the preprocessing, but aside from that it's plug and play! \n",
    "\n",
    "With the LeNet-5 solution from the lecture, you should expect a validation set accuracy of about 0.89. To meet specifications, the validation set accuracy will need to be at least 0.93. It is possible to get an even higher accuracy, but 0.93 is the minimum for a successful project submission. \n",
    "\n",
    "There are various aspects to consider when thinking about this problem:\n",
    "\n",
    "- Neural network architecture (is the network over or underfitting?)\n",
    "- Play around preprocessing techniques (normalization, rgb to grayscale, etc)\n",
    "- Number of examples per label (some have more than others).\n",
    "- Generate fake data.\n",
    "\n",
    "Here is an example of a [published baseline model on this problem](http://yann.lecun.com/exdb/publis/pdf/sermanet-ijcnn-11.pdf). It's not required to be familiar with the approach used in the paper but, it's good practice to try to read papers like these."
   ]
  },
  {
   "cell_type": "markdown",
   "metadata": {},
   "source": [
    "### Pre-process the Data Set (normalization, grayscale, etc.)"
   ]
  },
  {
   "cell_type": "markdown",
   "metadata": {},
   "source": [
    "Minimally, the image data should be normalized so that the data has mean zero and equal variance. For image data, `(pixel - 128)/ 128` is a quick way to approximately normalize the data and can be used in this project. \n",
    "\n",
    "Other pre-processing steps are optional. You can try different techniques to see if it improves performance. \n",
    "\n",
    "Use the code cell (or multiple code cells, if necessary) to implement the first step of your project."
   ]
  },
  {
   "cell_type": "markdown",
   "metadata": {},
   "source": [
    "Balance the data."
   ]
  },
  {
   "cell_type": "code",
   "execution_count": 6,
   "metadata": {},
   "outputs": [],
   "source": [
    "# Undersampling\n",
    "\n",
    "    "
   ]
  },
  {
   "cell_type": "markdown",
   "metadata": {},
   "source": [
    "Preprocessing is key. Machine learning algorithm follow the garbage in garbage out principle. Your algorithm depends heavily on the type of training data you use."
   ]
  },
  {
   "cell_type": "code",
   "execution_count": 7,
   "metadata": {},
   "outputs": [],
   "source": [
    "### Preprocess the data here. It is required to normalize the data. Other preprocessing steps could include \n",
    "### converting to grayscale, etc.\n",
    "### Feel free to use as many code cells as needed.\n",
    "\n",
    "# Data normalization is required so that gradient descent will converge faster/properly during training\n",
    "# However it is only really needed in the case when your features are on totally different scales of value\n",
    "# See https://www.coursera.org/learn/deep-neural-network/lecture/lXv6U/normalizing-inputs for explanation\n",
    "from sklearn.utils import shuffle\n",
    "\n",
    "def gray_normal(input_img):\n",
    "    output_img = cv2.cvtColor(input_img, cv2.COLOR_BGR2GRAY) \n",
    "    output_img = cv2.equalizeHist(output_img)\n",
    "    #cv2.normalize(output_img, output_img, 0, 255, cv2.NORM_MINMAX)\n",
    "    #output_img = (output_img - 128)/ 128\n",
    "    output_img = (output_img/128)-1\n",
    "    #output_img = output_img.reshape(32,32,1)\n",
    "    return output_img\n",
    "\n",
    "#def gray_normal_list(input_img_list):\n",
    "#    output_img_list = []\n",
    "#    for input_img in input_img_list:\n",
    "#        input_img = input_img.reshape(32,32,1)\n",
    "#        output_img = cv2.cvtColor(input_img, cv2.COLOR_BGR2GRAY)\n",
    "#        cv2.normalize(output_img, output_img, 0, 255, cv2.NORM_MINMAX)\n",
    "#        output_img_list.append(output_img)\n",
    "#    return output_img_list\n",
    "\n",
    "def perform_gray_normal(X,y):\n",
    "    return_X, return_y = [], []\n",
    "    for i in range(0,len(X)):\n",
    "        # Create gray scaled normalized image\n",
    "        img = gray_normal(X[i])\n",
    "        # Add gray scaled normalized image\n",
    "        return_X.append(img.reshape(32,32,1))\n",
    "        return_y.append(y[i])\n",
    "    return_X, return_y = shuffle(return_X, return_y)\n",
    "    return_X = np.array(return_X)\n",
    "    return_y = np.array(return_y)\n",
    "    return return_X, return_y"
   ]
  },
  {
   "cell_type": "markdown",
   "metadata": {},
   "source": [
    "First, let's take the default dataset provided by Udacity and create a grayscaled and normalized version"
   ]
  },
  {
   "cell_type": "code",
   "execution_count": 8,
   "metadata": {},
   "outputs": [
    {
     "name": "stdout",
     "output_type": "stream",
     "text": [
      "Shape of X_train (10%): (34799, 32, 32, 1)\n",
      "Shape of y_train (10%): (34799,)\n",
      "Shape of X_valid (10%): (4410, 32, 32, 1)\n",
      "Shape of y_valid (10%): (4410,)\n",
      "Shape of X_test (10%): (12630, 32, 32, 1)\n",
      "Shape of y_test (10%): (12630,)\n"
     ]
    }
   ],
   "source": [
    "# Grayscale and normalize training data\n",
    "X_train, y_train = perform_gray_normal(X_train, y_train)\n",
    "print(\"Shape of X_train (10%):\", X_train.shape)\n",
    "print(\"Shape of y_train (10%):\", y_train.shape)\n",
    "\n",
    "# Grayscale and normalize validation data\n",
    "X_valid, y_valid = perform_gray_normal(X_valid, y_valid)\n",
    "print(\"Shape of X_valid (10%):\", X_valid.shape)\n",
    "print(\"Shape of y_valid (10%):\", y_valid.shape)\n",
    "\n",
    "# Grayscale and normalize test data\n",
    "X_test, y_test = perform_gray_normal(X_test, y_test)\n",
    "print(\"Shape of X_test (10%):\", X_test.shape)\n",
    "print(\"Shape of y_test (10%):\", y_test.shape)"
   ]
  },
  {
   "cell_type": "markdown",
   "metadata": {},
   "source": [
    "Now let's take the Udacity dataset and use it as a baseline to create an augmented dataset"
   ]
  },
  {
   "cell_type": "code",
   "execution_count": 9,
   "metadata": {},
   "outputs": [],
   "source": [
    "# This is the data augmentation step in which I augment the training set with modified images.\n",
    "# This does not need to be done for test and validation sets.\n",
    "# For each of the techniques below (blurring, flipping, noise, etc.), how do I know how much \n",
    "# each of them is contributing to the robustness of my model? Furthermore, how do I know how much\n",
    "# to blur, flip, add noise, etc.? Right now, I'm doing it arbitrarily. Is there a systematic way?\n",
    "# Also, how do I know when I have augmented my data set enough?\n",
    "import random\n",
    "\n",
    "X_train_aug, y_train_aug = [],[]\n",
    "for i in range (0,n_train):\n",
    "    #if i==1: plt.imshow(X_train[i])\n",
    "    # Create gray scaled normalized image\n",
    "    #img = gray_normal(X_train[i])\n",
    "\n",
    "    # Add gray scaled normalized image\n",
    "    # I need to reshape images because the default TF LeNet architecture which I copy/pasted\n",
    "    # complains otherwise...but why? Figure this out....\n",
    "    #X_train_aug.append(img.reshape(32,32,1))\n",
    "    #y_train_aug.append(y_train[i])\n",
    "\n",
    "    # Add blurred image\n",
    "    #for j in range(random.randint(1,10)):\n",
    "    blur_shape = random.randint(1,15)\n",
    "    if blur_shape %2 == 0: blur_shape -= 1\n",
    "    blurred = cv2.GaussianBlur(X_train[i], (blur_shape, blur_shape), 0)\n",
    "    X_train_aug.append(blurred.reshape(32,32,1))\n",
    "    y_train_aug.append(y_train[i])\n",
    "\n",
    "    ## Add flipped image\n",
    "    ## Rotate 180 Degrees (Same as Flipping vertically and horizontally at the same time)\n",
    "    #flipped = cv2.flip(X_train[i],-1)\n",
    "    #X_train_aug.append(flipped.reshape(32,32,1))\n",
    "    #y_train_aug.append(y_train[i])\n",
    "\n",
    "    # Add noisy image\n",
    "    #for j in range(random.randint(1,10)):\n",
    "    noise = np.zeros_like(X_train[i])\n",
    "    cv2.randn(noise,(random.randint(0,10)),(random.randint(15,25)))\n",
    "    noisy_img = X_train[i]+noise\n",
    "    X_train_aug.append(noisy_img.reshape(32,32,1))\n",
    "    y_train_aug.append(y_train[i])\n",
    "\n",
    "    # Add random brightness image\n",
    "    shifted = X_train[i] + 1.0   # shift to (0,2) range\n",
    "    img_max_value = max(shifted.flatten())\n",
    "    max_coef = 2.0/img_max_value\n",
    "    min_coef = max_coef - 0.1\n",
    "    coef = np.random.uniform(min_coef, max_coef)\n",
    "    adjusted_img = shifted * coef - 1.0\n",
    "    X_train_aug.append(adjusted_img.reshape(32,32,1))\n",
    "    y_train_aug.append(y_train[i])\n",
    "\n",
    "    # Scaled image\n",
    "    rows,cols,_ = X_train[i].shape\n",
    "    # transform limits\n",
    "    px = np.random.randint(-2,2)\n",
    "    # ending locations\n",
    "    pts1 = np.float32([[px,px],[rows-px,px],[px,cols-px],[rows-px,cols-px]])\n",
    "    # starting locations (4 corners)\n",
    "    pts2 = np.float32([[0,0],[rows,0],[0,cols],[rows,cols]])\n",
    "    M = cv2.getPerspectiveTransform(pts1,pts2)\n",
    "    scaled_img = cv2.warpPerspective(X_train[i],M,(rows,cols))\n",
    "    scaled_img = scaled_img[:,:,np.newaxis]\n",
    "    X_train_aug.append(scaled_img.reshape(32,32,1))\n",
    "    y_train_aug.append(y_train[i])  \n",
    "    \n",
    "    # Warped image\n",
    "    rows,cols,_ = X_train[i].shape\n",
    "    # random scaling coefficients\n",
    "    rndx = np.random.rand(3) - 0.5\n",
    "    rndx *= cols * 0.06   # this coefficient determines the degree of warping\n",
    "    rndy = np.random.rand(3) - 0.5\n",
    "    rndy *= rows * 0.06\n",
    "    # 3 starting points for transform, 1/4 way from edges\n",
    "    x1 = cols/4\n",
    "    x2 = 3*cols/4\n",
    "    y1 = rows/4\n",
    "    y2 = 3*rows/4\n",
    "    pts1 = np.float32([[y1,x1],\n",
    "                       [y2,x1],\n",
    "                       [y1,x2]])\n",
    "    pts2 = np.float32([[y1+rndy[0],x1+rndx[0]],\n",
    "                       [y2+rndy[1],x1+rndx[1]],\n",
    "                       [y1+rndy[2],x2+rndx[2]]])\n",
    "    M = cv2.getAffineTransform(pts1,pts2)\n",
    "    warped_img = cv2.warpAffine(X_train[i],M,(cols,rows))\n",
    "    warped_img = warped_img[:,:,np.newaxis]\n",
    "    X_train_aug.append(warped_img.reshape(32,32,1))\n",
    "    y_train_aug.append(y_train[i])\n",
    "    \n",
    "    #Translated image\n",
    "    rows,cols,_ = X_train[i].shape\n",
    "    # allow translation up to px pixels in x and y directions\n",
    "    px = 2\n",
    "    dx,dy = np.random.randint(-px,px,2)\n",
    "    M = np.float32([[1,0,dx],[0,1,dy]])\n",
    "    trans_img = cv2.warpAffine(X_train[i],M,(cols,rows))\n",
    "    trans_img = trans_img[:,:,np.newaxis]\n",
    "    X_train_aug.append(trans_img.reshape(32,32,1))\n",
    "    y_train_aug.append(y_train[i]) \n",
    "\n",
    "X_train_aug = np.array(X_train_aug)\n",
    "y_train_aug = np.array(y_train_aug)"
   ]
  },
  {
   "cell_type": "markdown",
   "metadata": {},
   "source": [
    "Validation and test data only need to be preprocessed but not augmented. However, I am adding the \"aug\" suffix to the end of the dataset variable names for convenience."
   ]
  },
  {
   "cell_type": "code",
   "execution_count": 10,
   "metadata": {},
   "outputs": [],
   "source": [
    "X_valid_aug = X_valid\n",
    "y_valid_aug = y_valid\n",
    "X_test_aug = X_test\n",
    "y_test_aug = y_test"
   ]
  },
  {
   "cell_type": "markdown",
   "metadata": {},
   "source": [
    "Let's generate a dataset that performs augmentation but no rebalancing."
   ]
  },
  {
   "cell_type": "code",
   "execution_count": 11,
   "metadata": {},
   "outputs": [
    {
     "name": "stdout",
     "output_type": "stream",
     "text": [
      "Shape of X_train_aug =  (208794, 32, 32, 1)\n",
      "Shape of y_train_aug =  (208794,)\n",
      "Shape of X_valid_aug =  (4410, 32, 32, 1)\n",
      "Shape of y_valid_aug =  (4410,)\n",
      "Shape of X_test_aug =  (12630, 32, 32, 1)\n",
      "Shape of y_test_aug =  (12630,)\n"
     ]
    }
   ],
   "source": [
    "print(\"Shape of X_train_aug = \", X_train_aug.shape)\n",
    "print(\"Shape of y_train_aug = \", y_train_aug.shape)\n",
    "print(\"Shape of X_valid_aug = \", X_valid_aug.shape)\n",
    "print(\"Shape of y_valid_aug = \", y_valid_aug.shape)\n",
    "print(\"Shape of X_test_aug = \", X_test_aug.shape)\n",
    "print(\"Shape of y_test_aug = \", y_test_aug.shape)"
   ]
  },
  {
   "cell_type": "markdown",
   "metadata": {},
   "source": [
    "Let's generate a dataset that is 10% of the size of the original with no rebalancing. This may be useful later for rapid experimentation.\n",
    "\n",
    "Andrej Karpathy said in one of his lectures that as a sanity check you should feed the network with very few samples from each class labels and in this way your model should over-fit (that is it performs very well in the training phase but not during test/validation phase). If you're not able to get very high accuracy by training with few samples (coming from each class) then that means something is broken (your implementation is not right)."
   ]
  },
  {
   "cell_type": "code",
   "execution_count": 12,
   "metadata": {},
   "outputs": [
    {
     "name": "stdout",
     "output_type": "stream",
     "text": [
      "Shape of X_train_min (10%): (3479, 32, 32, 1)\n",
      "Shape of y_train_min (10%): (3479,)\n",
      "Shape of X_valid_min (10%): (441, 32, 32, 1)\n",
      "Shape of y_valid_min (10%): (441,)\n",
      "Shape of X_test_min (10%): (1263, 32, 32, 1)\n",
      "Shape of y_test_min (10%): (1263,)\n"
     ]
    }
   ],
   "source": [
    "# First, let's try and come up with a smaller dataset for faster training\n",
    "\n",
    "import random \n",
    "\n",
    "def small_data(data_dict, data_hist):\n",
    "    temp_x,temp_y = [],[]\n",
    "    for key, val in data_dict.items():\n",
    "        temp_x += random.sample(val, data_hist[key]//10)\n",
    "        temp_y += data_hist[key]//10 * [key]\n",
    "    return perform_gray_normal(temp_x, temp_y)\n",
    "\n",
    "# Get 10% of training data\n",
    "X_train_min, y_train_min = small_data(train_data_dict, hist_train)\n",
    "print(\"Shape of X_train_min (10%):\", X_train_min.shape)\n",
    "print(\"Shape of y_train_min (10%):\", y_train_min.shape)\n",
    "\n",
    "# Get 10% of validation data\n",
    "X_valid_min, y_valid_min = small_data(val_data_dict, hist_val)\n",
    "print(\"Shape of X_valid_min (10%):\", X_valid_min.shape)\n",
    "print(\"Shape of y_valid_min (10%):\", y_valid_min.shape)\n",
    "\n",
    "# Get 10% of test data\n",
    "X_test_min, y_test_min = small_data(test_data_dict,hist_test)\n",
    "print(\"Shape of X_test_min (10%):\", X_test_min.shape)\n",
    "print(\"Shape of y_test_min (10%):\", y_test_min.shape)\n"
   ]
  },
  {
   "cell_type": "markdown",
   "metadata": {},
   "source": [
    "### Hardware Check"
   ]
  },
  {
   "cell_type": "markdown",
   "metadata": {},
   "source": [
    "Let's do a a quick hardware check to make sure that my GPU is working. I have a laptop with an NVIDIA GeForce GT 740M GPU. Training time can be painfully slow even using this GPU since it is a small one so I absolutley can't afford to train on CPU. Furthermore, the NVIDIA drivers on my system can be very flakey and stop working from time to time so it is essential to make sure that my hardware is working right before attempting to train. Output should log to the terminal, not here in the notebook."
   ]
  },
  {
   "cell_type": "code",
   "execution_count": 13,
   "metadata": {},
   "outputs": [],
   "source": [
    "import tensorflow as tf\n",
    "sess = tf.Session(config=tf.ConfigProto(log_device_placement=True))"
   ]
  },
  {
   "cell_type": "markdown",
   "metadata": {},
   "source": [
    "Successful hardware detection looks like this on my system:\n",
    "\n",
    "    I tensorflow/core/common_runtime/gpu/gpu_device.cc:975] Creating TensorFlow device (/gpu:0) -> (device: 0, name: GeForce GT 740M, pci bus id: 0000:01:00.0)\n",
    "    Device mapping:\n",
    "    /job:localhost/replica:0/task:0/gpu:0 -> device: 0, name: GeForce GT 740M, pci bus id: 0000:01:00.0\n",
    "    I tensorflow/core/common_runtime/direct_session.cc:255] Device mapping:\n",
    "    /job:localhost/replica:0/task:0/gpu:0 -> device: 0, name: GeForce GT 740M, pci bus id: 0000:01:00.0\n"
   ]
  },
  {
   "cell_type": "markdown",
   "metadata": {},
   "source": [
    "### Model Architecture"
   ]
  },
  {
   "cell_type": "markdown",
   "metadata": {},
   "source": [
    "First, I will try to use the default LeNet architecture with minimal modifcations to make it work with the traffic sign data set."
   ]
  },
  {
   "cell_type": "code",
   "execution_count": 14,
   "metadata": {},
   "outputs": [],
   "source": [
    "### Define your architecture here.\n",
    "### Feel free to use as many code cells as needed.\n",
    "from tensorflow.contrib.layers import flatten\n",
    "from sklearn.utils import shuffle\n",
    "#X_train_g, y_train_g = shuffle(X_train_g, y_train_g)\n",
    "\n",
    "\n",
    "\n",
    "def LeNet(x):    \n",
    "    # Arguments used for tf.truncated_normal, randomly defines variables for the weights and biases for each layer\n",
    "    # Experiment with these values\n",
    "    mu = 0\n",
    "    sigma = 0.1\n",
    "    \n",
    "    # SOLUTION: Layer 1: Convolutional. Input = 32x32x1. Output = 28x28x6.\n",
    "    # out_width = ceil(float(in_width - filter_width + 1) / float(strides[2]))\n",
    "    conv1_W = tf.Variable(tf.truncated_normal(shape=(5, 5, 1, 6), mean = mu, stddev = sigma))\n",
    "    conv1_b = tf.Variable(tf.zeros(6))\n",
    "    conv1   = tf.nn.conv2d(x, conv1_W, strides=[1, 1, 1, 1], padding='VALID') + conv1_b\n",
    "\n",
    "    # SOLUTION: Activation.\n",
    "    conv1 = tf.nn.relu(conv1)\n",
    "\n",
    "    ## SOLUTION: Pooling. Input = 28x28x6. Output = 14x14x6.\n",
    "    conv1 = tf.nn.max_pool(conv1, ksize=[1, 2, 2, 1], strides=[1, 2, 2, 1], padding='VALID')\n",
    "\n",
    "    # SOLUTION: Layer 2: Convolutional. Output = 10x10x16.\n",
    "    conv2_W = tf.Variable(tf.truncated_normal(shape=(5, 5, 6, 16), mean = mu, stddev = sigma))\n",
    "    conv2_b = tf.Variable(tf.zeros(16))\n",
    "    conv2   = tf.nn.conv2d(conv1, conv2_W, strides=[1, 1, 1, 1], padding='VALID') + conv2_b\n",
    "    \n",
    "    # SOLUTION: Activation.\n",
    "    conv2 = tf.nn.relu(conv2)\n",
    "\n",
    "    ## SOLUTION: Pooling. Input = 10x10x16. Output = 5x5x16.\n",
    "    conv2 = tf.nn.max_pool(conv2, ksize=[1, 2, 2, 1], strides=[1, 2, 2, 1], padding='VALID')\n",
    "\n",
    "    # SOLUTION: Flatten. Input = 5x5x16. Output = 400.\n",
    "    fc0   = flatten(conv2)\n",
    "\n",
    "    # The goal of this layer is to combine features detected from the image patches together for a particular task. \n",
    "    # In some (very simplified) sense, conv layers are smart feature extractors, and FC layers is the actual network.\n",
    "    \n",
    "    # SOLUTION: Layer 3: Fully Connected. Input = 400. Output = 120.\n",
    "    fc1_W = tf.Variable(tf.truncated_normal(shape=(400, 120), mean = mu, stddev = sigma))\n",
    "    #fc1_W = tf.Variable(tf.truncated_normal(shape=(9216, 120), mean = mu, stddev = sigma))\n",
    "    fc1_b = tf.Variable(tf.zeros(120))\n",
    "    fc1   = tf.matmul(fc0, fc1_W) + fc1_b\n",
    "    \n",
    "    # SOLUTION: Activation.\n",
    "    fc1    = tf.nn.relu(fc1)\n",
    "    \n",
    "    # SOLUTION: Layer 4: Fully Connected. Input = 120. Output = 84.\n",
    "    fc2_W  = tf.Variable(tf.truncated_normal(shape=(120, 84), mean = mu, stddev = sigma))\n",
    "    fc2_b  = tf.Variable(tf.zeros(84))\n",
    "    fc2    = tf.matmul(fc1, fc2_W) + fc2_b\n",
    "    \n",
    "    # SOLUTION: Activation.\n",
    "    fc2    = tf.nn.relu(fc2)\n",
    "\n",
    "    # SOLUTION: Layer 5: Fully Connected. Input = 84. Output = 10.\n",
    "    fc3_W  = tf.Variable(tf.truncated_normal(shape=(84, 43), mean = mu, stddev = sigma))\n",
    "    fc3_b  = tf.Variable(tf.zeros(43))\n",
    "    logits = tf.matmul(fc2, fc3_W) + fc3_b\n",
    "    \n",
    "    return logits"
   ]
  },
  {
   "attachments": {
    "image.png": {
     "image/png": "[encoded data removed]"
    }
   },
   "cell_type": "markdown",
   "metadata": {},
   "source": [
    "This is my modified LeNet architecture. If your network underfits your training data i.e. high loss, even after trying out different hyper parameters, then you should increase the complexity of the network. Complexity can be increased in 2 ways - increasing the number of layers or number of filters in existing layers. Some things I'm trying here: add dropout, remove max pooling,\n",
    "\n",
    "\n",
    "\n",
    "![image.png](attachment:image.png)\n",
    "\n",
    "    how can i decide the dimensions of each layer, so i can choose the dimensions of the filter weights and dimensions of the strides “ksize” ?\n",
    "\n",
    "This requires experimentation. Usually we use odd sizes like 3x3, 5x5, 7x7. Even numbered and bigger sizes are not usually used.\n"
   ]
  },
  {
   "cell_type": "code",
   "execution_count": null,
   "metadata": {},
   "outputs": [],
   "source": []
  },
  {
   "cell_type": "markdown",
   "metadata": {},
   "source": [
    "### Train, Validate and Test the Model"
   ]
  },
  {
   "cell_type": "markdown",
   "metadata": {},
   "source": [
    "A validation set can be used to assess how well the model is performing. A low accuracy on the training and validation\n",
    "sets imply underfitting. A high accuracy on the training set but low accuracy on the validation set implies overfitting."
   ]
  },
  {
   "cell_type": "code",
   "execution_count": 15,
   "metadata": {},
   "outputs": [],
   "source": [
    "### Train your model here.\n",
    "### Calculate and report the accuracy on the training and validation set.\n",
    "### Once a final model architecture is selected, \n",
    "### the accuracy on the test set should be calculated and reported as well.\n",
    "### Feel free to use as many code cells as needed.\n",
    "\n",
    "x = tf.placeholder(tf.float32, (None, 32, 32, 1))\n",
    "#x = tf.placeholder(tf.float32, (32, 32))\n",
    "y = tf.placeholder(tf.int32, (None))\n",
    "\n",
    "# The purpose of one-hot encoding is to turn the label from an integer into\n",
    "# a one-hot binary vector. This works better.\n",
    "#one_hot_y = tf.one_hot(y, 10)\n",
    "one_hot_y = tf.one_hot(y, 43)\n",
    "\n",
    "rate = 0.001\n",
    "\n",
    "logits = LeNet(x)\n",
    "# Softmax function takes an N-dimensional vector of real numbers and transforms \n",
    "# it into a vector of real number in range (0,1) which add up to 1\n",
    "# Just a measure of how different our logits are from the ground truth training labels\n",
    "# https://sefiks.com/2017/12/17/a-gentle-introduction-to-cross-entropy-loss-function/\n",
    "cross_entropy = tf.nn.softmax_cross_entropy_with_logits(labels=one_hot_y, logits=logits)\n",
    "\n",
    "# AVreages the cross entropy from all the training images\n",
    "loss_operation = tf.reduce_mean(cross_entropy)\n",
    "\n",
    "# Adam optimizer is a little more sophisticated that stochastic gradient descent\n",
    "# Good default choice for an optimizer\n",
    "optimizer = tf.train.AdamOptimizer(learning_rate = rate)\n",
    "training_operation = optimizer.minimize(loss_operation)\n",
    "correct_prediction = tf.equal(tf.argmax(logits, 1), tf.argmax(one_hot_y, 1))\n",
    "\n",
    "# This averages the correctness of the batch's predictions so it can be used\n",
    "# later to get the average correctness for the entire test set\n",
    "accuracy_operation = tf.reduce_mean(tf.cast(correct_prediction, tf.float32))\n",
    "\n",
    "# This is for saving the trained model\n",
    "saver = tf.train.Saver()"
   ]
  },
  {
   "cell_type": "markdown",
   "metadata": {},
   "source": [
    "This is the function for evaluating the model."
   ]
  },
  {
   "cell_type": "code",
   "execution_count": 16,
   "metadata": {},
   "outputs": [],
   "source": [
    "def evaluate(accuracy_oper, X_data, y_data, BATCH_SIZE):\n",
    "    num_examples = len(X_data)\n",
    "    total_accuracy = 0\n",
    "    sess = tf.get_default_session()\n",
    "    for offset in range(0, num_examples, BATCH_SIZE):\n",
    "        batch_x, batch_y = X_data[offset:offset+BATCH_SIZE], y_data[offset:offset+BATCH_SIZE]\n",
    "        accuracy = sess.run(accuracy_oper, feed_dict={x: batch_x, y: batch_y})\n",
    "        total_accuracy += (accuracy * len(batch_x))\n",
    "    return total_accuracy / num_examples"
   ]
  },
  {
   "cell_type": "markdown",
   "metadata": {},
   "source": [
    "This is the function for training the model"
   ]
  },
  {
   "cell_type": "code",
   "execution_count": 17,
   "metadata": {},
   "outputs": [],
   "source": [
    "import time\n",
    "def train_model(training_oper, accuracy_oper, saver,\n",
    "                X_train_data, y_train_data, \n",
    "                X_valid_data, y_valid_data, \n",
    "                EPOCHS, BATCH_SIZE, label):\n",
    "    \n",
    "    start = time.time()\n",
    "    print(\"X_train_data shape\", X_train_data.shape)\n",
    "    print(\"y_train_data shape\", y_train_data.shape)\n",
    "\n",
    "    with tf.Session() as sess:\n",
    "        sess.run(tf.global_variables_initializer())\n",
    "        num_examples = len(X_train_data)\n",
    "\n",
    "        print(\"Training...\")\n",
    "        for i in range(EPOCHS):\n",
    "            X_train_data, y_train_data = shuffle(X_train_data, y_train_data)\n",
    "            for offset in range(0, num_examples, BATCH_SIZE):\n",
    "                end = offset + BATCH_SIZE\n",
    "                batch_x, batch_y = X_train_data[offset:end], y_train_data[offset:end]\n",
    "                sess.run(training_oper, feed_dict={x: batch_x, y: batch_y})\n",
    "\n",
    "            validation_accuracy = evaluate(accuracy_oper, X_valid_data, y_valid_data, BATCH_SIZE)\n",
    "            print(\"EPOCH {} ...\".format(i+1))\n",
    "            print(\"Validation Accuracy = {:.3f}\".format(validation_accuracy))\n",
    "            print()\n",
    "\n",
    "        saver.save(sess, './lenet_'+label)\n",
    "        print(\"Model saved\")\n",
    "        end = time.time()\n",
    "        print(\"Total training time in seconds:\", end - start)"
   ]
  },
  {
   "cell_type": "markdown",
   "metadata": {},
   "source": [
    "Now, perform the actual training. First, let's try with the dataset without augmentation. The images do need to be grayscaled and regularized first though. This takes a while for me...."
   ]
  },
  {
   "cell_type": "code",
   "execution_count": null,
   "metadata": {},
   "outputs": [],
   "source": [
    "# https://arxiv.org/pdf/1804.07612.pdf\n",
    "train_model(training_operation, accuracy_operation, saver,\n",
    "            X_train_min, y_train_min, \n",
    "            X_valid_min, y_valid_min, \n",
    "            EPOCHS = 100, BATCH_SIZE = 256, \n",
    "            label = \"min-data\")"
   ]
  },
  {
   "cell_type": "code",
   "execution_count": null,
   "metadata": {},
   "outputs": [],
   "source": [
    "# https://arxiv.org/pdf/1804.07612.pdf\n",
    "train_model(training_operation, accuracy_operation, saver,\n",
    "            X_train, y_train, \n",
    "            X_valid, y_valid, \n",
    "            EPOCHS = 30, BATCH_SIZE = 256, \n",
    "            label = \"regular-data\")"
   ]
  },
  {
   "cell_type": "code",
   "execution_count": null,
   "metadata": {},
   "outputs": [],
   "source": [
    "# https://arxiv.org/pdf/1804.07612.pdf\n",
    "train_model(training_operation, accuracy_operation, X_train_aug, y_train_aug, X_valid_aug, y_valid_aug, EPOCHS = 30, BATCH_SIZE = 256, label = \"aug-data\")"
   ]
  },
  {
   "cell_type": "markdown",
   "metadata": {},
   "source": [
    "Let's test accuracy for LeNet. It should only be run once."
   ]
  },
  {
   "cell_type": "code",
   "execution_count": null,
   "metadata": {},
   "outputs": [],
   "source": [
    "with tf.Session() as sess:\n",
    "    saver.restore(sess, tf.train.latest_checkpoint('.'))\n",
    "\n",
    "    test_accuracy = evaluate(accuracy_operation, X_test, y_test)\n",
    "    print(\"Test Accuracy = {:.3f}\".format(test_accuracy))"
   ]
  },
  {
   "cell_type": "markdown",
   "metadata": {},
   "source": [
    "Now, let's define and train a modified LeNet architecture.\n",
    "\n",
    "Here are some of the techniques I'll use.\n",
    "\n",
    " \n",
    "\n",
    "Dropout\n",
    "\n",
    "https://pgaleone.eu/deep-learning/regularization/2017/01/10/anaysis-of-dropout/\n",
    "\n",
    "The idea behind Dropout is to train an ensemble of DNNs and average the results of the whole ensemble instead of train a single DNN. The dropped neurons do not contribute to the training phase in both the forward and backward phases of back-propagation: for this reason **every time a single neuron is dropped out it’s like the training phase is done on a new network.**\n"
   ]
  },
  {
   "cell_type": "code",
   "execution_count": null,
   "metadata": {},
   "outputs": [],
   "source": [
    "from tensorflow.contrib.layers import flatten\n",
    "\n",
    "def LeNet_mod(x):    \n",
    "    # Arguments used for tf.truncated_normal, randomly defines variables for the weights and biases for each layer\n",
    "    # Experiment with these values\n",
    "    mu = 0\n",
    "    sigma = 0.1\n",
    "    keep_prob = 0.5\n",
    "    \n",
    "    # SOLUTION: Layer 1: Convolutional. Input = 32x32x1. Output = 30x30x12.\n",
    "    # out_width = ceil(float(in_width - filter_width + 1) / float(strides[2]))\n",
    "    conv1_W = tf.Variable(tf.truncated_normal(shape=(3, 3, 1, 12), mean = mu, stddev = sigma))\n",
    "    conv1_b = tf.Variable(tf.zeros(12))\n",
    "    conv1   = tf.nn.conv2d(x, conv1_W, strides=[1, 1, 1, 1], padding='VALID') + conv1_b\n",
    "    # SOLUTION: Activation.\n",
    "    conv1 = tf.nn.relu(conv1)\n",
    "    ## SOLUTION: Pooling. Input = 30x30x12. Output = 15x15x12.\n",
    "    conv1 = tf.nn.max_pool(conv1, ksize=[1, 2, 2, 1], strides=[1, 2, 2, 1], padding='VALID')\n",
    "\n",
    "    # SOLUTION: Layer 2: Convolutional. Input = 15x15x12. Output = 13x13x32.\n",
    "    conv2_W = tf.Variable(tf.truncated_normal(shape=(3, 3, 12, 32), mean = mu, stddev = sigma))\n",
    "    conv2_b = tf.Variable(tf.zeros(32))\n",
    "    conv2   = tf.nn.conv2d(conv1, conv2_W, strides=[1, 1, 1, 1], padding='VALID') + conv2_b\n",
    "    # SOLUTION: Activation.\n",
    "    conv2 = tf.nn.relu(conv2)\n",
    "    ## SOLUTION: Pooling. Input = 13x13x32. Output = 6x6x32.\n",
    "    conv2 = tf.nn.max_pool(conv2, ksize=[1, 2, 2, 1], strides=[1, 2, 2, 1], padding='VALID')\n",
    "\n",
    "    # Layer 3: Convolutional. Input = 6x6x32. Output = 4x4x52.\n",
    "    conv3_W = tf.Variable(tf.truncated_normal(shape=(3, 3, 32, 52), mean = mu, stddev = sigma))\n",
    "    conv3_b = tf.Variable(tf.zeros(52))\n",
    "    conv3 = tf.nn.conv2d(conv2, conv3_W, strides=[1, 1, 1, 1], padding='VALID') + conv3_b     \n",
    "    # TODO: Activation.\n",
    "    conv3 = tf.nn.relu(conv3)    \n",
    "    ## SOLUTION: Pooling. Input = 4x4x52. Output = 2x2x52.\n",
    "    conv3 = tf.nn.max_pool(conv3, ksize=[1, 2, 2, 1], strides=[1, 2, 2, 1], padding='VALID')\n",
    "    \n",
    "    # SOLUTION: Flatten. Input = 2x2x52. Output = 208.\n",
    "    fc0   = flatten(conv3)\n",
    "\n",
    "    # The goal of this layer is to combine features detected from the image patches together for a particular task. \n",
    "    # In some (very simplified) sense, conv layers are smart feature extractors, and FC layers is the actual network.\n",
    "    \n",
    "    # SOLUTION: Layer 3: Fully Connected. Input = 400. Output = 120.\n",
    "    fc1_W = tf.Variable(tf.truncated_normal(shape=(208, 120), mean = mu, stddev = sigma))\n",
    "    #fc1_W = tf.Variable(tf.truncated_normal(shape=(9216, 120), mean = mu, stddev = sigma))\n",
    "    fc1_b = tf.Variable(tf.zeros(120))\n",
    "    fc1   = tf.matmul(fc0, fc1_W) + fc1_b\n",
    "    # SOLUTION: Activation.\n",
    "    fc1    = tf.nn.relu(fc1)\n",
    "    # Dropout\n",
    "    fc1 = tf.nn.dropout(fc1, keep_prob)\n",
    "    \n",
    "    # SOLUTION: Layer 4: Fully Connected. Input = 120. Output = 84.\n",
    "    fc2_W  = tf.Variable(tf.truncated_normal(shape=(120, 84), mean = mu, stddev = sigma))\n",
    "    fc2_b  = tf.Variable(tf.zeros(84))\n",
    "    fc2    = tf.matmul(fc1, fc2_W) + fc2_b\n",
    "    # SOLUTION: Activation.\n",
    "    fc2    = tf.nn.relu(fc2)\n",
    "    # Dropout\n",
    "    fc2 = tf.nn.dropout(fc2, keep_prob)\n",
    "\n",
    "    # SOLUTION: Layer 5: Fully Connected. Input = 84. Output = 43.\n",
    "    fc3_W  = tf.Variable(tf.truncated_normal(shape=(84, 43), mean = mu, stddev = sigma))\n",
    "    fc3_b  = tf.Variable(tf.zeros(43))\n",
    "    logits = tf.matmul(fc2, fc3_W) + fc3_b\n",
    "    \n",
    "    return logits"
   ]
  },
  {
   "cell_type": "markdown",
   "metadata": {},
   "source": [
    "Now, I will try training again but this time on the modified LeNet architecture. Condensed into a single cell for brevity."
   ]
  },
  {
   "cell_type": "code",
   "execution_count": null,
   "metadata": {},
   "outputs": [],
   "source": [
    "x = tf.placeholder(tf.float32, (None, 32, 32, 1))\n",
    "y = tf.placeholder(tf.int32, (None))\n",
    "one_hot_y_mod = tf.one_hot(y, 43)\n",
    "rate_mod = 0.001\n",
    "logits_mod = LeNet_mod(x)\n",
    "cross_entropy_mod = tf.nn.softmax_cross_entropy_with_logits(labels=one_hot_y_mod, logits=logits_mod)\n",
    "loss_operation_mod = tf.reduce_mean(cross_entropy_mod)\n",
    "optimizer_mod = tf.train.AdamOptimizer(learning_rate = rate_mod)\n",
    "training_operation_mod = optimizer.minimize(loss_operation_mod)\n",
    "correct_prediction_mod = tf.equal(tf.argmax(logits_mod, 1), tf.argmax(one_hot_y_mod, 1))\n",
    "accuracy_operation_mod = tf.reduce_mean(tf.cast(correct_prediction_mod, tf.float32))\n",
    "saver_mod = tf.train.Saver()"
   ]
  },
  {
   "cell_type": "markdown",
   "metadata": {},
   "source": [
    "Now, perform the actual training. First, let's try with the dataset without augmentation. The images do need to be grayscaled and regularized first though. This takes a while for me...."
   ]
  },
  {
   "cell_type": "code",
   "execution_count": null,
   "metadata": {},
   "outputs": [],
   "source": [
    "# https://arxiv.org/pdf/1804.07612.pdf\n",
    "train_model(training_operation_mod, accuracy_operation_mod, saver_mod,\n",
    "            X_train_min, y_train_min, \n",
    "            X_valid_min, y_valid_min, \n",
    "            EPOCHS = 100, BATCH_SIZE = 256, \n",
    "            label = \"mod_min-data\")"
   ]
  },
  {
   "cell_type": "code",
   "execution_count": null,
   "metadata": {},
   "outputs": [],
   "source": [
    "# https://arxiv.org/pdf/1804.07612.pdf\n",
    "train_model(training_operation_mod, accuracy_operation_mod, saver_mod,\n",
    "            X_train, y_train, \n",
    "            X_valid, y_valid, \n",
    "            EPOCHS = 30, BATCH_SIZE = 256, \n",
    "            label = \"mod_regular-data\")"
   ]
  },
  {
   "cell_type": "code",
   "execution_count": null,
   "metadata": {},
   "outputs": [],
   "source": [
    "# https://arxiv.org/pdf/1804.07612.pdf\n",
    "train_model(training_operation_mod, accuracy_operation_mod, saver_mod,\n",
    "            X_train_aug, y_train_aug, \n",
    "            X_valid_aug, y_valid_aug, \n",
    "            EPOCHS = 30, BATCH_SIZE = 256, \n",
    "            label = \"mod_aug-data\")"
   ]
  },
  {
   "cell_type": "markdown",
   "metadata": {},
   "source": [
    "Evaluate accuracy on the modfied network."
   ]
  },
  {
   "cell_type": "code",
   "execution_count": null,
   "metadata": {},
   "outputs": [],
   "source": [
    "with tf.Session() as sess:\n",
    "    saver_mod.restore(sess, tf.train.latest_checkpoint('.'))\n",
    "\n",
    "    test_accuracy_mod = evaluate(accuracy_operation, X_test, y_test)\n",
    "    print(\"Test Accuracy = {:.3f}\".format(test_accuracy_mod))"
   ]
  },
  {
   "cell_type": "code",
   "execution_count": 18,
   "metadata": {},
   "outputs": [],
   "source": [
    "from tensorflow.contrib.layers import flatten\n",
    "\n",
    "def LeNet2(x):    \n",
    "    # Hyperparameters\n",
    "    mu = 0\n",
    "    sigma = 0.1\n",
    "    keep_prob = 0.4\n",
    "    \n",
    "    # TODO: Layer 1: Convolutional. Input = 32x32x1. Output = 28x28x6.\n",
    "    W1 = tf.Variable(tf.truncated_normal(shape=(5, 5, 1, 6), mean = mu, stddev = sigma))\n",
    "    x = tf.nn.conv2d(x, W1, strides=[1, 1, 1, 1], padding='VALID')\n",
    "    b1 = tf.Variable(tf.zeros(6))\n",
    "    x = tf.nn.bias_add(x, b1)\n",
    "    print(\"layer 1 shape:\",x.get_shape())\n",
    "\n",
    "    # TODO: Activation.\n",
    "    x = tf.nn.relu(x)\n",
    "    \n",
    "    # TODO: Pooling. Input = 28x28x6. Output = 14x14x6.\n",
    "    x = tf.nn.max_pool(x, ksize=[1, 2, 2, 1], strides=[1, 2, 2, 1], padding='VALID')\n",
    "    layer1 = x\n",
    "    \n",
    "    # TODO: Layer 2: Convolutional. Output = 10x10x16.\n",
    "    W2 = tf.Variable(tf.truncated_normal(shape=(5, 5, 6, 16), mean = mu, stddev = sigma))\n",
    "    x = tf.nn.conv2d(x, W2, strides=[1, 1, 1, 1], padding='VALID')\n",
    "    b2 = tf.Variable(tf.zeros(16))\n",
    "    x = tf.nn.bias_add(x, b2)\n",
    "                     \n",
    "    # TODO: Activation.\n",
    "    x = tf.nn.relu(x)\n",
    "\n",
    "    # TODO: Pooling. Input = 10x10x16. Output = 5x5x16.\n",
    "    x = tf.nn.max_pool(x, ksize=[1, 2, 2, 1], strides=[1, 2, 2, 1], padding='VALID')\n",
    "    layer2 = x\n",
    "    \n",
    "    # TODO: Layer 3: Convolutional. Output = 1x1x400.\n",
    "    W3 = tf.Variable(tf.truncated_normal(shape=(5, 5, 16, 400), mean = mu, stddev = sigma))\n",
    "    x = tf.nn.conv2d(x, W3, strides=[1, 1, 1, 1], padding='VALID')\n",
    "    b3 = tf.Variable(tf.zeros(400))\n",
    "    x = tf.nn.bias_add(x, b3)\n",
    "                     \n",
    "    # TODO: Activation.\n",
    "    x = tf.nn.relu(x)\n",
    "    layer3 = x\n",
    "\n",
    "    # TODO: Flatten. Input = 5x5x16. Output = 400.\n",
    "    layer2flat = flatten(layer2)\n",
    "    print(\"layer2flat shape:\",layer2flat.get_shape())\n",
    "    \n",
    "    # Flatten x. Input = 1x1x400. Output = 400.\n",
    "    xflat = flatten(x)\n",
    "    print(\"xflat shape:\",xflat.get_shape())\n",
    "    \n",
    "    # Concat layer2flat and x. Input = 400 + 400. Output = 800\n",
    "    x = tf.concat_v2([xflat, layer2flat], 1)\n",
    "    print(\"x shape:\",x.get_shape())\n",
    "    \n",
    "    # Dropout\n",
    "    x = tf.nn.dropout(x, keep_prob)\n",
    "    \n",
    "    # TODO: Layer 4: Fully Connected. Input = 800. Output = 43.\n",
    "    W4 = tf.Variable(tf.truncated_normal(shape=(800, 43), mean = mu, stddev = sigma))\n",
    "    b4 = tf.Variable(tf.zeros(43))    \n",
    "    logits = tf.add(tf.matmul(x, W4), b4)\n",
    "    \n",
    "    # TODO: Activation.\n",
    "    #x = tf.nn.relu(x)\n",
    "\n",
    "    # TODO: Layer 5: Fully Connected. Input = 120. Output = 84.\n",
    "    #W5 = tf.Variable(tf.truncated_normal(shape=(120, 84), mean = mu, stddev = sigma))\n",
    "    #b5 = tf.Variable(tf.zeros(84)) \n",
    "    #x = tf.add(tf.matmul(x, W5), b5)\n",
    "    \n",
    "    # TODO: Activation.\n",
    "    #x = tf.nn.relu(x)\n",
    "\n",
    "    # TODO: Layer 6: Fully Connected. Input = 84. Output = 43.\n",
    "    #W6 = tf.Variable(tf.truncated_normal(shape=(84, 43), mean = mu, stddev = sigma))\n",
    "    #b6 = tf.Variable(tf.zeros(43)) \n",
    "    #logits = tf.add(tf.matmul(x, W6), b6)\n",
    "    \n",
    "    return logits\n"
   ]
  },
  {
   "cell_type": "code",
   "execution_count": 19,
   "metadata": {},
   "outputs": [
    {
     "name": "stdout",
     "output_type": "stream",
     "text": [
      "layer 1 shape: (?, 28, 28, 6)\n",
      "layer2flat shape: (?, 400)\n",
      "xflat shape: (?, 400)\n",
      "x shape: (?, 800)\n"
     ]
    }
   ],
   "source": [
    "x = tf.placeholder(tf.float32, (None, 32, 32, 1))\n",
    "y = tf.placeholder(tf.int32, (None))\n",
    "one_hot_y_le2 = tf.one_hot(y, 43)\n",
    "rate_le2 = 0.0009\n",
    "logits_le2 = LeNet2(x)\n",
    "cross_entropy_le2 = tf.nn.softmax_cross_entropy_with_logits(labels=one_hot_y_le2, logits=logits_le2)\n",
    "loss_operation_le2 = tf.reduce_mean(cross_entropy_le2)\n",
    "optimizer_le2 = tf.train.AdamOptimizer(learning_rate = rate_le2)\n",
    "training_operation_le2 = optimizer_le2.minimize(loss_operation_le2)\n",
    "correct_prediction_le2 = tf.equal(tf.argmax(logits_le2, 1), tf.argmax(one_hot_y_le2, 1))\n",
    "accuracy_operation_le2 = tf.reduce_mean(tf.cast(correct_prediction_le2, tf.float32))\n",
    "saver_le2 = tf.train.Saver()"
   ]
  },
  {
   "cell_type": "code",
   "execution_count": 20,
   "metadata": {},
   "outputs": [
    {
     "name": "stdout",
     "output_type": "stream",
     "text": [
      "X_train_data shape (3479, 32, 32, 1)\n",
      "y_train_data shape (3479,)\n",
      "Training...\n",
      "EPOCH 1 ...\n",
      "Validation Accuracy = 0.095\n",
      "\n",
      "EPOCH 2 ...\n",
      "Validation Accuracy = 0.179\n",
      "\n",
      "EPOCH 3 ...\n",
      "Validation Accuracy = 0.302\n",
      "\n",
      "EPOCH 4 ...\n",
      "Validation Accuracy = 0.372\n",
      "\n",
      "EPOCH 5 ...\n",
      "Validation Accuracy = 0.410\n",
      "\n",
      "EPOCH 6 ...\n",
      "Validation Accuracy = 0.497\n",
      "\n",
      "EPOCH 7 ...\n",
      "Validation Accuracy = 0.549\n",
      "\n",
      "EPOCH 8 ...\n",
      "Validation Accuracy = 0.574\n",
      "\n",
      "EPOCH 9 ...\n",
      "Validation Accuracy = 0.585\n",
      "\n",
      "EPOCH 10 ...\n",
      "Validation Accuracy = 0.624\n",
      "\n",
      "EPOCH 11 ...\n",
      "Validation Accuracy = 0.642\n",
      "\n",
      "EPOCH 12 ...\n",
      "Validation Accuracy = 0.683\n",
      "\n",
      "EPOCH 13 ...\n",
      "Validation Accuracy = 0.676\n",
      "\n",
      "EPOCH 14 ...\n",
      "Validation Accuracy = 0.696\n",
      "\n",
      "EPOCH 15 ...\n",
      "Validation Accuracy = 0.701\n",
      "\n",
      "EPOCH 16 ...\n",
      "Validation Accuracy = 0.710\n",
      "\n",
      "EPOCH 17 ...\n",
      "Validation Accuracy = 0.701\n",
      "\n",
      "EPOCH 18 ...\n",
      "Validation Accuracy = 0.732\n",
      "\n",
      "EPOCH 19 ...\n",
      "Validation Accuracy = 0.698\n",
      "\n",
      "EPOCH 20 ...\n",
      "Validation Accuracy = 0.755\n",
      "\n",
      "EPOCH 21 ...\n",
      "Validation Accuracy = 0.748\n",
      "\n",
      "EPOCH 22 ...\n",
      "Validation Accuracy = 0.730\n",
      "\n",
      "EPOCH 23 ...\n",
      "Validation Accuracy = 0.760\n",
      "\n",
      "EPOCH 24 ...\n",
      "Validation Accuracy = 0.787\n",
      "\n",
      "EPOCH 25 ...\n",
      "Validation Accuracy = 0.780\n",
      "\n",
      "EPOCH 26 ...\n",
      "Validation Accuracy = 0.760\n",
      "\n"
     ]
    },
    {
     "ename": "KeyboardInterrupt",
     "evalue": "",
     "output_type": "error",
     "traceback": [
      "\u001b[0;31m---------------------------------------------------------------------------\u001b[0m",
      "\u001b[0;31mKeyboardInterrupt\u001b[0m                         Traceback (most recent call last)",
      "\u001b[0;32m<ipython-input-20-32300551bfca>\u001b[0m in \u001b[0;36m<module>\u001b[0;34m()\u001b[0m\n\u001b[1;32m      4\u001b[0m             \u001b[0mX_valid_min\u001b[0m\u001b[0;34m,\u001b[0m \u001b[0my_valid_min\u001b[0m\u001b[0;34m,\u001b[0m\u001b[0;34m\u001b[0m\u001b[0m\n\u001b[1;32m      5\u001b[0m             \u001b[0mEPOCHS\u001b[0m \u001b[0;34m=\u001b[0m \u001b[0;36m100\u001b[0m\u001b[0;34m,\u001b[0m \u001b[0mBATCH_SIZE\u001b[0m \u001b[0;34m=\u001b[0m \u001b[0;36m256\u001b[0m\u001b[0;34m,\u001b[0m\u001b[0;34m\u001b[0m\u001b[0m\n\u001b[0;32m----> 6\u001b[0;31m             label = \"le2_min-data\")\n\u001b[0m",
      "\u001b[0;32m<ipython-input-17-f57c134c4c4b>\u001b[0m in \u001b[0;36mtrain_model\u001b[0;34m(training_oper, accuracy_oper, saver, X_train_data, y_train_data, X_valid_data, y_valid_data, EPOCHS, BATCH_SIZE, label)\u001b[0m\n\u001b[1;32m     19\u001b[0m                 \u001b[0mend\u001b[0m \u001b[0;34m=\u001b[0m \u001b[0moffset\u001b[0m \u001b[0;34m+\u001b[0m \u001b[0mBATCH_SIZE\u001b[0m\u001b[0;34m\u001b[0m\u001b[0m\n\u001b[1;32m     20\u001b[0m                 \u001b[0mbatch_x\u001b[0m\u001b[0;34m,\u001b[0m \u001b[0mbatch_y\u001b[0m \u001b[0;34m=\u001b[0m \u001b[0mX_train_data\u001b[0m\u001b[0;34m[\u001b[0m\u001b[0moffset\u001b[0m\u001b[0;34m:\u001b[0m\u001b[0mend\u001b[0m\u001b[0;34m]\u001b[0m\u001b[0;34m,\u001b[0m \u001b[0my_train_data\u001b[0m\u001b[0;34m[\u001b[0m\u001b[0moffset\u001b[0m\u001b[0;34m:\u001b[0m\u001b[0mend\u001b[0m\u001b[0;34m]\u001b[0m\u001b[0;34m\u001b[0m\u001b[0m\n\u001b[0;32m---> 21\u001b[0;31m                 \u001b[0msess\u001b[0m\u001b[0;34m.\u001b[0m\u001b[0mrun\u001b[0m\u001b[0;34m(\u001b[0m\u001b[0mtraining_oper\u001b[0m\u001b[0;34m,\u001b[0m \u001b[0mfeed_dict\u001b[0m\u001b[0;34m=\u001b[0m\u001b[0;34m{\u001b[0m\u001b[0mx\u001b[0m\u001b[0;34m:\u001b[0m \u001b[0mbatch_x\u001b[0m\u001b[0;34m,\u001b[0m \u001b[0my\u001b[0m\u001b[0;34m:\u001b[0m \u001b[0mbatch_y\u001b[0m\u001b[0;34m}\u001b[0m\u001b[0;34m)\u001b[0m\u001b[0;34m\u001b[0m\u001b[0m\n\u001b[0m\u001b[1;32m     22\u001b[0m \u001b[0;34m\u001b[0m\u001b[0m\n\u001b[1;32m     23\u001b[0m             \u001b[0mvalidation_accuracy\u001b[0m \u001b[0;34m=\u001b[0m \u001b[0mevaluate\u001b[0m\u001b[0;34m(\u001b[0m\u001b[0maccuracy_oper\u001b[0m\u001b[0;34m,\u001b[0m \u001b[0mX_valid_data\u001b[0m\u001b[0;34m,\u001b[0m \u001b[0my_valid_data\u001b[0m\u001b[0;34m,\u001b[0m \u001b[0mBATCH_SIZE\u001b[0m\u001b[0;34m)\u001b[0m\u001b[0;34m\u001b[0m\u001b[0m\n",
      "\u001b[0;32m~/anaconda3/envs/carnd-term1/lib/python3.5/site-packages/tensorflow/python/client/session.py\u001b[0m in \u001b[0;36mrun\u001b[0;34m(self, fetches, feed_dict, options, run_metadata)\u001b[0m\n\u001b[1;32m    764\u001b[0m     \u001b[0;32mtry\u001b[0m\u001b[0;34m:\u001b[0m\u001b[0;34m\u001b[0m\u001b[0m\n\u001b[1;32m    765\u001b[0m       result = self._run(None, fetches, feed_dict, options_ptr,\n\u001b[0;32m--> 766\u001b[0;31m                          run_metadata_ptr)\n\u001b[0m\u001b[1;32m    767\u001b[0m       \u001b[0;32mif\u001b[0m \u001b[0mrun_metadata\u001b[0m\u001b[0;34m:\u001b[0m\u001b[0;34m\u001b[0m\u001b[0m\n\u001b[1;32m    768\u001b[0m         \u001b[0mproto_data\u001b[0m \u001b[0;34m=\u001b[0m \u001b[0mtf_session\u001b[0m\u001b[0;34m.\u001b[0m\u001b[0mTF_GetBuffer\u001b[0m\u001b[0;34m(\u001b[0m\u001b[0mrun_metadata_ptr\u001b[0m\u001b[0;34m)\u001b[0m\u001b[0;34m\u001b[0m\u001b[0m\n",
      "\u001b[0;32m~/anaconda3/envs/carnd-term1/lib/python3.5/site-packages/tensorflow/python/client/session.py\u001b[0m in \u001b[0;36m_run\u001b[0;34m(self, handle, fetches, feed_dict, options, run_metadata)\u001b[0m\n\u001b[1;32m    962\u001b[0m     \u001b[0;32mif\u001b[0m \u001b[0mfinal_fetches\u001b[0m \u001b[0;32mor\u001b[0m \u001b[0mfinal_targets\u001b[0m\u001b[0;34m:\u001b[0m\u001b[0;34m\u001b[0m\u001b[0m\n\u001b[1;32m    963\u001b[0m       results = self._do_run(handle, final_targets, final_fetches,\n\u001b[0;32m--> 964\u001b[0;31m                              feed_dict_string, options, run_metadata)\n\u001b[0m\u001b[1;32m    965\u001b[0m     \u001b[0;32melse\u001b[0m\u001b[0;34m:\u001b[0m\u001b[0;34m\u001b[0m\u001b[0m\n\u001b[1;32m    966\u001b[0m       \u001b[0mresults\u001b[0m \u001b[0;34m=\u001b[0m \u001b[0;34m[\u001b[0m\u001b[0;34m]\u001b[0m\u001b[0;34m\u001b[0m\u001b[0m\n",
      "\u001b[0;32m~/anaconda3/envs/carnd-term1/lib/python3.5/site-packages/tensorflow/python/client/session.py\u001b[0m in \u001b[0;36m_do_run\u001b[0;34m(self, handle, target_list, fetch_list, feed_dict, options, run_metadata)\u001b[0m\n\u001b[1;32m   1012\u001b[0m     \u001b[0;32mif\u001b[0m \u001b[0mhandle\u001b[0m \u001b[0;32mis\u001b[0m \u001b[0;32mNone\u001b[0m\u001b[0;34m:\u001b[0m\u001b[0;34m\u001b[0m\u001b[0m\n\u001b[1;32m   1013\u001b[0m       return self._do_call(_run_fn, self._session, feed_dict, fetch_list,\n\u001b[0;32m-> 1014\u001b[0;31m                            target_list, options, run_metadata)\n\u001b[0m\u001b[1;32m   1015\u001b[0m     \u001b[0;32melse\u001b[0m\u001b[0;34m:\u001b[0m\u001b[0;34m\u001b[0m\u001b[0m\n\u001b[1;32m   1016\u001b[0m       return self._do_call(_prun_fn, self._session, handle, feed_dict,\n",
      "\u001b[0;32m~/anaconda3/envs/carnd-term1/lib/python3.5/site-packages/tensorflow/python/client/session.py\u001b[0m in \u001b[0;36m_do_call\u001b[0;34m(self, fn, *args)\u001b[0m\n\u001b[1;32m   1019\u001b[0m   \u001b[0;32mdef\u001b[0m \u001b[0m_do_call\u001b[0m\u001b[0;34m(\u001b[0m\u001b[0mself\u001b[0m\u001b[0;34m,\u001b[0m \u001b[0mfn\u001b[0m\u001b[0;34m,\u001b[0m \u001b[0;34m*\u001b[0m\u001b[0margs\u001b[0m\u001b[0;34m)\u001b[0m\u001b[0;34m:\u001b[0m\u001b[0;34m\u001b[0m\u001b[0m\n\u001b[1;32m   1020\u001b[0m     \u001b[0;32mtry\u001b[0m\u001b[0;34m:\u001b[0m\u001b[0;34m\u001b[0m\u001b[0m\n\u001b[0;32m-> 1021\u001b[0;31m       \u001b[0;32mreturn\u001b[0m \u001b[0mfn\u001b[0m\u001b[0;34m(\u001b[0m\u001b[0;34m*\u001b[0m\u001b[0margs\u001b[0m\u001b[0;34m)\u001b[0m\u001b[0;34m\u001b[0m\u001b[0m\n\u001b[0m\u001b[1;32m   1022\u001b[0m     \u001b[0;32mexcept\u001b[0m \u001b[0merrors\u001b[0m\u001b[0;34m.\u001b[0m\u001b[0mOpError\u001b[0m \u001b[0;32mas\u001b[0m \u001b[0me\u001b[0m\u001b[0;34m:\u001b[0m\u001b[0;34m\u001b[0m\u001b[0m\n\u001b[1;32m   1023\u001b[0m       \u001b[0mmessage\u001b[0m \u001b[0;34m=\u001b[0m \u001b[0mcompat\u001b[0m\u001b[0;34m.\u001b[0m\u001b[0mas_text\u001b[0m\u001b[0;34m(\u001b[0m\u001b[0me\u001b[0m\u001b[0;34m.\u001b[0m\u001b[0mmessage\u001b[0m\u001b[0;34m)\u001b[0m\u001b[0;34m\u001b[0m\u001b[0m\n",
      "\u001b[0;32m~/anaconda3/envs/carnd-term1/lib/python3.5/site-packages/tensorflow/python/client/session.py\u001b[0m in \u001b[0;36m_run_fn\u001b[0;34m(session, feed_dict, fetch_list, target_list, options, run_metadata)\u001b[0m\n\u001b[1;32m   1001\u001b[0m         return tf_session.TF_Run(session, options,\n\u001b[1;32m   1002\u001b[0m                                  \u001b[0mfeed_dict\u001b[0m\u001b[0;34m,\u001b[0m \u001b[0mfetch_list\u001b[0m\u001b[0;34m,\u001b[0m \u001b[0mtarget_list\u001b[0m\u001b[0;34m,\u001b[0m\u001b[0;34m\u001b[0m\u001b[0m\n\u001b[0;32m-> 1003\u001b[0;31m                                  status, run_metadata)\n\u001b[0m\u001b[1;32m   1004\u001b[0m \u001b[0;34m\u001b[0m\u001b[0m\n\u001b[1;32m   1005\u001b[0m     \u001b[0;32mdef\u001b[0m \u001b[0m_prun_fn\u001b[0m\u001b[0;34m(\u001b[0m\u001b[0msession\u001b[0m\u001b[0;34m,\u001b[0m \u001b[0mhandle\u001b[0m\u001b[0;34m,\u001b[0m \u001b[0mfeed_dict\u001b[0m\u001b[0;34m,\u001b[0m \u001b[0mfetch_list\u001b[0m\u001b[0;34m)\u001b[0m\u001b[0;34m:\u001b[0m\u001b[0;34m\u001b[0m\u001b[0m\n",
      "\u001b[0;31mKeyboardInterrupt\u001b[0m: "
     ]
    }
   ],
   "source": [
    "# https://arxiv.org/pdf/1804.07612.pdf\n",
    "train_model(training_operation_le2, accuracy_operation_le2, saver_le2,\n",
    "            X_train_min, y_train_min, \n",
    "            X_valid_min, y_valid_min, \n",
    "            EPOCHS = 100, BATCH_SIZE = 256, \n",
    "            label = \"le2_min-data\")"
   ]
  },
  {
   "cell_type": "code",
   "execution_count": null,
   "metadata": {},
   "outputs": [],
   "source": [
    "# https://arxiv.org/pdf/1804.07612.pdf\n",
    "train_model(training_operation_le2, accuracy_operation_le2, saver_le2,\n",
    "            X_train, y_train, \n",
    "            X_valid, y_valid, \n",
    "            EPOCHS = 30, BATCH_SIZE = 256, \n",
    "            label = \"le2_regular-data\")"
   ]
  },
  {
   "cell_type": "code",
   "execution_count": 21,
   "metadata": {},
   "outputs": [
    {
     "name": "stdout",
     "output_type": "stream",
     "text": [
      "X_train_data shape (208794, 32, 32, 1)\n",
      "y_train_data shape (208794,)\n",
      "Training...\n",
      "EPOCH 1 ...\n",
      "Validation Accuracy = 0.781\n",
      "\n",
      "EPOCH 2 ...\n",
      "Validation Accuracy = 0.868\n",
      "\n",
      "EPOCH 3 ...\n",
      "Validation Accuracy = 0.897\n",
      "\n",
      "EPOCH 4 ...\n",
      "Validation Accuracy = 0.907\n",
      "\n",
      "EPOCH 5 ...\n",
      "Validation Accuracy = 0.923\n",
      "\n",
      "EPOCH 6 ...\n",
      "Validation Accuracy = 0.924\n",
      "\n",
      "EPOCH 7 ...\n",
      "Validation Accuracy = 0.929\n",
      "\n",
      "EPOCH 8 ...\n",
      "Validation Accuracy = 0.934\n",
      "\n",
      "EPOCH 9 ...\n",
      "Validation Accuracy = 0.941\n",
      "\n",
      "EPOCH 10 ...\n",
      "Validation Accuracy = 0.940\n",
      "\n",
      "EPOCH 11 ...\n",
      "Validation Accuracy = 0.947\n",
      "\n",
      "EPOCH 12 ...\n",
      "Validation Accuracy = 0.947\n",
      "\n",
      "EPOCH 13 ...\n",
      "Validation Accuracy = 0.944\n",
      "\n",
      "EPOCH 14 ...\n",
      "Validation Accuracy = 0.942\n",
      "\n",
      "EPOCH 15 ...\n",
      "Validation Accuracy = 0.948\n",
      "\n",
      "EPOCH 16 ...\n",
      "Validation Accuracy = 0.950\n",
      "\n",
      "EPOCH 17 ...\n",
      "Validation Accuracy = 0.946\n",
      "\n",
      "EPOCH 18 ...\n",
      "Validation Accuracy = 0.947\n",
      "\n",
      "EPOCH 19 ...\n",
      "Validation Accuracy = 0.947\n",
      "\n",
      "EPOCH 20 ...\n",
      "Validation Accuracy = 0.952\n",
      "\n",
      "EPOCH 21 ...\n",
      "Validation Accuracy = 0.951\n",
      "\n",
      "EPOCH 22 ...\n",
      "Validation Accuracy = 0.948\n",
      "\n",
      "EPOCH 23 ...\n",
      "Validation Accuracy = 0.948\n",
      "\n",
      "EPOCH 24 ...\n",
      "Validation Accuracy = 0.951\n",
      "\n",
      "EPOCH 25 ...\n",
      "Validation Accuracy = 0.944\n",
      "\n",
      "EPOCH 26 ...\n",
      "Validation Accuracy = 0.949\n",
      "\n",
      "EPOCH 27 ...\n",
      "Validation Accuracy = 0.945\n",
      "\n",
      "EPOCH 28 ...\n",
      "Validation Accuracy = 0.949\n",
      "\n",
      "EPOCH 29 ...\n",
      "Validation Accuracy = 0.954\n",
      "\n",
      "EPOCH 30 ...\n",
      "Validation Accuracy = 0.951\n",
      "\n",
      "Model saved\n",
      "Total training time in seconds: 1546.1199147701263\n"
     ]
    }
   ],
   "source": [
    "# https://arxiv.org/pdf/1804.07612.pdf\n",
    "train_model(training_operation_le2, accuracy_operation_le2, saver_le2,\n",
    "            X_train_aug, y_train_aug, \n",
    "            X_valid_aug, y_valid_aug, \n",
    "            EPOCHS = 30, BATCH_SIZE = 256, \n",
    "            label = \"le2_aug-data\")"
   ]
  },
  {
   "cell_type": "markdown",
   "metadata": {},
   "source": [
    "---\n",
    "\n",
    "## Step 3: Test a Model on New Images\n",
    "\n",
    "To give yourself more insight into how your model is working, download at least five pictures of German traffic signs from the web and use your model to predict the traffic sign type.\n",
    "\n",
    "You may find `signnames.csv` useful as it contains mappings from the class id (integer) to the actual sign name."
   ]
  },
  {
   "cell_type": "markdown",
   "metadata": {},
   "source": [
    "### Load and Output the Images"
   ]
  },
  {
   "cell_type": "code",
   "execution_count": null,
   "metadata": {},
   "outputs": [],
   "source": [
    "### Load the images and plot them here.\n",
    "### Feel free to use as many code cells as needed.\n",
    "import glob\n",
    "\n",
    "internet_images = []\n",
    "for file in glob.glob(\"./german_signs_from_internet/*\"):\n",
    "    image = cv2.imread(file)\n",
    "    image = cv2.cvtColor(image, cv2.COLOR_BGR2RGB)\n",
    "    image = cv2.resize(image,(32,32))\n",
    "    internet_images.append(image)\n",
    "    \n",
    "fig, axs = plt.subplots(2,6, figsize=(15, 6))\n",
    "fig.subplots_adjust(hspace = .2, wspace=.001)\n",
    "axs = axs.ravel()\n",
    "for i in range(len(internet_images)):\n",
    "    image = internet_images[i]\n",
    "    axs[i].axis('off')\n",
    "    axs[i].imshow(image)\n",
    "    axs[i].set_title(i) \n",
    "    \n",
    "for i in range(len(internet_images)):    \n",
    "    #internet_images[i] = cv2.resize(internet_images[i],(32,32))\n",
    "    internet_images[i] = gray_normal(internet_images[i])\n",
    "internet_images = np.array(internet_images)\n",
    "    \n",
    "fig, axs = plt.subplots(2,5, figsize=(15, 6))\n",
    "fig.subplots_adjust(hspace = .2, wspace=.001)\n",
    "axs = axs.ravel()\n",
    "for i in range(len(internet_images)):\n",
    "    image = internet_images[i]\n",
    "    axs[i].axis('off')\n",
    "    axs[i].imshow(image)\n",
    "    axs[i].set_title(i) \n",
    "print(\"Found\",len(internet_images),\"images downloaded from the internet.\")"
   ]
  },
  {
   "cell_type": "markdown",
   "metadata": {},
   "source": [
    "### Predict the Sign Type for Each Image"
   ]
  },
  {
   "cell_type": "code",
   "execution_count": null,
   "metadata": {},
   "outputs": [],
   "source": [
    "### Run the predictions here and use the model to output the prediction for each image.\n",
    "### Make sure to pre-process the images with the same pre-processing pipeline used earlier.\n",
    "### Feel free to use as many code cells as needed.\n",
    "with tf.Session() as sess:\n",
    "    saver.restore(sess, tf.train.latest_checkpoint('.'))\n",
    "\n",
    "    test_accuracy = evaluate(X_test, y_test)\n",
    "    print(\"Test Accuracy = {:.3f}\".format(test_accuracy))\n",
    "    \n",
    "### Run the predictions here.\n",
    "### Feel free to use as many code cells as needed.\n",
    "\n",
    "my_labels = [3, 11, 1, 12, 38, 34, 18, 25]\n",
    "with tf.Session() as sess:\n",
    "    sess.run(tf.global_variables_initializer())\n",
    "    saver3 = tf.train.import_meta_graph('./lenet.meta')\n",
    "    saver3.restore(sess, \"./lenet\")\n",
    "    my_accuracy = evaluate(internet_images, my_labels)\n",
    "    print(\"Test Set Accuracy = {:.3f}\".format(my_accuracy))"
   ]
  },
  {
   "cell_type": "markdown",
   "metadata": {},
   "source": [
    "### Analyze Performance"
   ]
  },
  {
   "cell_type": "code",
   "execution_count": null,
   "metadata": {},
   "outputs": [],
   "source": [
    "### Calculate the accuracy for these 5 new images. \n",
    "### For example, if the model predicted 1 out of 5 signs correctly, it's 20% accurate on these new images.\n",
    "def evaluate_internet_images(X_data, y_data):\n",
    "    num_examples = len(X_data)\n",
    "    total_accuracy = 0\n",
    "    sess = tf.get_default_session()\n",
    "    for offset in range(0, num_examples):\n",
    "        accuracy = sess.run(accuracy_operation, feed_dict={x: X_data, y: y_data})\n",
    "        total_accuracy += (accuracy * len(batch_x))\n",
    "    return total_accuracy / num_examples\n",
    "\n",
    "evaluate_internet_images()"
   ]
  },
  {
   "cell_type": "markdown",
   "metadata": {},
   "source": [
    "### Output Top 5 Softmax Probabilities For Each Image Found on the Web"
   ]
  },
  {
   "cell_type": "markdown",
   "metadata": {},
   "source": [
    "For each of the new images, print out the model's softmax probabilities to show the **certainty** of the model's predictions (limit the output to the top 5 probabilities for each image). [`tf.nn.top_k`](https://www.tensorflow.org/versions/r0.12/api_docs/python/nn.html#top_k) could prove helpful here. \n",
    "\n",
    "The example below demonstrates how tf.nn.top_k can be used to find the top k predictions for each image.\n",
    "\n",
    "`tf.nn.top_k` will return the values and indices (class ids) of the top k predictions. So if k=3, for each sign, it'll return the 3 largest probabilities (out of a possible 43) and the correspoding class ids.\n",
    "\n",
    "Take this numpy array as an example. The values in the array represent predictions. The array contains softmax probabilities for five candidate images with six possible classes. `tf.nn.top_k` is used to choose the three classes with the highest probability:\n",
    "\n",
    "```\n",
    "# (5, 6) array\n",
    "a = np.array([[ 0.24879643,  0.07032244,  0.12641572,  0.34763842,  0.07893497,\n",
    "         0.12789202],\n",
    "       [ 0.28086119,  0.27569815,  0.08594638,  0.0178669 ,  0.18063401,\n",
    "         0.15899337],\n",
    "       [ 0.26076848,  0.23664738,  0.08020603,  0.07001922,  0.1134371 ,\n",
    "         0.23892179],\n",
    "       [ 0.11943333,  0.29198961,  0.02605103,  0.26234032,  0.1351348 ,\n",
    "         0.16505091],\n",
    "       [ 0.09561176,  0.34396535,  0.0643941 ,  0.16240774,  0.24206137,\n",
    "         0.09155967]])\n",
    "```\n",
    "\n",
    "Running it through `sess.run(tf.nn.top_k(tf.constant(a), k=3))` produces:\n",
    "\n",
    "```\n",
    "TopKV2(values=array([[ 0.34763842,  0.24879643,  0.12789202],\n",
    "       [ 0.28086119,  0.27569815,  0.18063401],\n",
    "       [ 0.26076848,  0.23892179,  0.23664738],\n",
    "       [ 0.29198961,  0.26234032,  0.16505091],\n",
    "       [ 0.34396535,  0.24206137,  0.16240774]]), indices=array([[3, 0, 5],\n",
    "       [0, 1, 4],\n",
    "       [0, 5, 1],\n",
    "       [1, 3, 5],\n",
    "       [1, 4, 3]], dtype=int32))\n",
    "```\n",
    "\n",
    "Looking just at the first row we get `[ 0.34763842,  0.24879643,  0.12789202]`, you can confirm these are the 3 largest probabilities in `a`. You'll also notice `[3, 0, 5]` are the corresponding indices."
   ]
  },
  {
   "cell_type": "code",
   "execution_count": null,
   "metadata": {},
   "outputs": [],
   "source": [
    "### Print out the top five softmax probabilities for the predictions on the German traffic sign images found on the web. \n",
    "### Feel free to use as many code cells as needed.\n",
    "\n",
    "fig, axs = plt.subplots(8,2, figsize=(9, 19))\n",
    "axs = axs.ravel()\n",
    "\n",
    "for i in range(len(my_softmax_logits)*2):\n",
    "    if i%2 == 0:\n",
    "        axs[i].axis('off')\n",
    "        axs[i].imshow(cv2.cvtColor(my_images[i//2], cv2.COLOR_BGR2RGB))\n",
    "    else:\n",
    "        axs[i].bar(np.arange(n_classes), my_softmax_logits[(i-1)//2]) \n",
    "        axs[i].set_ylabel('Softmax probability')"
   ]
  },
  {
   "cell_type": "markdown",
   "metadata": {},
   "source": [
    "### Project Writeup\n",
    "\n",
    "Once you have completed the code implementation, document your results in a project writeup using this [template](https://github.com/udacity/CarND-Traffic-Sign-Classifier-Project/blob/master/writeup_template.md) as a guide. The writeup can be in a markdown or pdf file. "
   ]
  },
  {
   "cell_type": "markdown",
   "metadata": {},
   "source": [
    "> **Note**: Once you have completed all of the code implementations and successfully answered each question above, you may finalize your work by exporting the iPython Notebook as an HTML document. You can do this by using the menu above and navigating to  \\n\",\n",
    "    \"**File -> Download as -> HTML (.html)**. Include the finished document along with this notebook as your submission."
   ]
  },
  {
   "cell_type": "markdown",
   "metadata": {},
   "source": [
    "---\n",
    "\n",
    "## Step 4 (Optional): Visualize the Neural Network's State with Test Images\n",
    "\n",
    " This Section is not required to complete but acts as an additional excersise for understaning the output of a neural network's weights. While neural networks can be a great learning device they are often referred to as a black box. We can understand what the weights of a neural network look like better by plotting their feature maps. After successfully training your neural network you can see what it's feature maps look like by plotting the output of the network's weight layers in response to a test stimuli image. From these plotted feature maps, it's possible to see what characteristics of an image the network finds interesting. For a sign, maybe the inner network feature maps react with high activation to the sign's boundary outline or to the contrast in the sign's painted symbol.\n",
    "\n",
    " Provided for you below is the function code that allows you to get the visualization output of any tensorflow weight layer you want. The inputs to the function should be a stimuli image, one used during training or a new one you provided, and then the tensorflow variable name that represents the layer's state during the training process, for instance if you wanted to see what the [LeNet lab's](https://classroom.udacity.com/nanodegrees/nd013/parts/fbf77062-5703-404e-b60c-95b78b2f3f9e/modules/6df7ae49-c61c-4bb2-a23e-6527e69209ec/lessons/601ae704-1035-4287-8b11-e2c2716217ad/concepts/d4aca031-508f-4e0b-b493-e7b706120f81) feature maps looked like for it's second convolutional layer you could enter conv2 as the tf_activation variable.\n",
    "\n",
    "For an example of what feature map outputs look like, check out NVIDIA's results in their paper [End-to-End Deep Learning for Self-Driving Cars](https://devblogs.nvidia.com/parallelforall/deep-learning-self-driving-cars/) in the section Visualization of internal CNN State. NVIDIA was able to show that their network's inner weights had high activations to road boundary lines by comparing feature maps from an image with a clear path to one without. Try experimenting with a similar test to show that your trained network's weights are looking for interesting features, whether it's looking at differences in feature maps from images with or without a sign, or even what feature maps look like in a trained network vs a completely untrained one on the same sign image.\n",
    "\n",
    "<figure>\n",
    " <img src=\"visualize_cnn.png\" width=\"380\" alt=\"Combined Image\" />\n",
    " <figcaption>\n",
    " <p></p> \n",
    " <p style=\"text-align: center;\"> Your output should look something like this (above)</p> \n",
    " </figcaption>\n",
    "</figure>\n",
    " <p></p> \n"
   ]
  },
  {
   "cell_type": "code",
   "execution_count": null,
   "metadata": {},
   "outputs": [],
   "source": [
    "### Visualize your network's feature maps here.\n",
    "### Feel free to use as many code cells as needed.\n",
    "\n",
    "# image_input: the test image being fed into the network to produce the feature maps\n",
    "# tf_activation: should be a tf variable name used during your training procedure that represents the calculated state of a specific weight layer\n",
    "# activation_min/max: can be used to view the activation contrast in more detail, by default matplot sets min and max to the actual min and max values of the output\n",
    "# plt_num: used to plot out multiple different weight feature map sets on the same block, just extend the plt number for each new feature map entry\n",
    "\n",
    "def outputFeatureMap(image_input, tf_activation, activation_min=-1, activation_max=-1 ,plt_num=1):\n",
    "    # Here make sure to preprocess your image_input in a way your network expects\n",
    "    # with size, normalization, ect if needed\n",
    "    # image_input =\n",
    "    # Note: x should be the same name as your network's tensorflow data placeholder variable\n",
    "    # If you get an error tf_activation is not defined it may be having trouble accessing the variable from inside a function\n",
    "    activation = tf_activation.eval(session=sess,feed_dict={x : image_input})\n",
    "    featuremaps = activation.shape[3]\n",
    "    plt.figure(plt_num, figsize=(15,15))\n",
    "    for featuremap in range(featuremaps):\n",
    "        plt.subplot(6,8, featuremap+1) # sets the number of feature maps to show on each row and column\n",
    "        plt.title('FeatureMap ' + str(featuremap)) # displays the feature map number\n",
    "        if activation_min != -1 & activation_max != -1:\n",
    "            plt.imshow(activation[0,:,:, featuremap], interpolation=\"nearest\", vmin =activation_min, vmax=activation_max, cmap=\"gray\")\n",
    "        elif activation_max != -1:\n",
    "            plt.imshow(activation[0,:,:, featuremap], interpolation=\"nearest\", vmax=activation_max, cmap=\"gray\")\n",
    "        elif activation_min !=-1:\n",
    "            plt.imshow(activation[0,:,:, featuremap], interpolation=\"nearest\", vmin=activation_min, cmap=\"gray\")\n",
    "        else:\n",
    "            plt.imshow(activation[0,:,:, featuremap], interpolation=\"nearest\", cmap=\"gray\")"
   ]
  }
 ],
 "metadata": {
  "anaconda-cloud": {},
  "kernelspec": {
   "display_name": "Python 3",
   "language": "python",
   "name": "python3"
  },
  "language_info": {
   "codemirror_mode": {
    "name": "ipython",
    "version": 3
   },
   "file_extension": ".py",
   "mimetype": "text/x-python",
   "name": "python",
   "nbconvert_exporter": "python",
   "pygments_lexer": "ipython3",
   "version": "3.5.2"
  },
  "widgets": {
   "state": {},
   "version": "1.1.2"
  }
 },
 "nbformat": 4,
 "nbformat_minor": 1
}
